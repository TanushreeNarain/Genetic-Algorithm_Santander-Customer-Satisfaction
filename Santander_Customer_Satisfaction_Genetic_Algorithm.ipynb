{
  "cells": [
    {
      "cell_type": "code",
      "execution_count": null,
      "id": "96642aa1",
      "metadata": {
        "id": "96642aa1",
        "outputId": "439c40aa-276e-47fb-9dd3-d5328abf23b5"
      },
      "outputs": [
        {
          "name": "stdout",
          "output_type": "stream",
          "text": [
            "Collecting scikit-learn==1.0.2\n",
            "  Downloading scikit_learn-1.0.2-cp39-cp39-win_amd64.whl (7.2 MB)\n",
            "Requirement already satisfied: threadpoolctl>=2.0.0 in c:\\users\\tntnt\\anaconda3\\lib\\site-packages (from scikit-learn==1.0.2) (2.2.0)\n",
            "Requirement already satisfied: numpy>=1.14.6 in c:\\users\\tntnt\\anaconda3\\lib\\site-packages (from scikit-learn==1.0.2) (1.21.5)\n",
            "Requirement already satisfied: joblib>=0.11 in c:\\users\\tntnt\\anaconda3\\lib\\site-packages (from scikit-learn==1.0.2) (1.1.0)\n",
            "Requirement already satisfied: scipy>=1.1.0 in c:\\users\\tntnt\\anaconda3\\lib\\site-packages (from scikit-learn==1.0.2) (1.7.3)\n",
            "Installing collected packages: scikit-learn\n",
            "  Attempting uninstall: scikit-learn\n",
            "    Found existing installation: scikit-learn 1.1.2\n",
            "    Uninstalling scikit-learn-1.1.2:\n",
            "      Successfully uninstalled scikit-learn-1.1.2\n"
          ]
        },
        {
          "name": "stderr",
          "output_type": "stream",
          "text": [
            "ERROR: Could not install packages due to an OSError: [WinError 5] Access is denied: 'C:\\\\Users\\\\tntnt\\\\anaconda3\\\\Lib\\\\site-packages\\\\~klearn\\\\.libs\\\\vcomp140.dll'\n",
            "Consider using the `--user` option or check the permissions.\n",
            "\n"
          ]
        }
      ],
      "source": [
        "!pip install scikit-learn==1.0.2"
      ]
    },
    {
      "cell_type": "code",
      "execution_count": null,
      "id": "0dd0af78",
      "metadata": {
        "id": "0dd0af78",
        "outputId": "05e62cc0-8ee9-4689-d520-4f29bb6c3ec8"
      },
      "outputs": [
        {
          "name": "stdout",
          "output_type": "stream",
          "text": [
            "Requirement already satisfied: sklearn-genetic in c:\\users\\tntnt\\anaconda3\\lib\\site-packages (0.5.1)\n",
            "Requirement already satisfied: scikit-learn>=0.23 in c:\\users\\tntnt\\anaconda3\\lib\\site-packages (from sklearn-genetic) (1.0.2)\n",
            "Requirement already satisfied: deap>=1.0.2 in c:\\users\\tntnt\\anaconda3\\lib\\site-packages (from sklearn-genetic) (1.3.3)\n",
            "Requirement already satisfied: multiprocess in c:\\users\\tntnt\\anaconda3\\lib\\site-packages (from sklearn-genetic) (0.70.14)\n",
            "Requirement already satisfied: numpy in c:\\users\\tntnt\\anaconda3\\lib\\site-packages (from sklearn-genetic) (1.21.5)\n",
            "Requirement already satisfied: joblib>=0.11 in c:\\users\\tntnt\\anaconda3\\lib\\site-packages (from scikit-learn>=0.23->sklearn-genetic) (1.1.0)\n",
            "Requirement already satisfied: threadpoolctl>=2.0.0 in c:\\users\\tntnt\\anaconda3\\lib\\site-packages (from scikit-learn>=0.23->sklearn-genetic) (2.2.0)\n",
            "Requirement already satisfied: scipy>=1.1.0 in c:\\users\\tntnt\\anaconda3\\lib\\site-packages (from scikit-learn>=0.23->sklearn-genetic) (1.7.3)\n",
            "Requirement already satisfied: dill>=0.3.6 in c:\\users\\tntnt\\anaconda3\\lib\\site-packages (from multiprocess->sklearn-genetic) (0.3.6)\n",
            "Note: you may need to restart the kernel to use updated packages.\n"
          ]
        }
      ],
      "source": [
        "pip install sklearn-genetic"
      ]
    },
    {
      "cell_type": "code",
      "execution_count": null,
      "id": "0e7759de",
      "metadata": {
        "id": "0e7759de",
        "outputId": "ceee0ef5-eb6e-43b6-dfc7-226ebd868b3f"
      },
      "outputs": [
        {
          "name": "stdout",
          "output_type": "stream",
          "text": [
            "Requirement already satisfied: vecstack in c:\\users\\tntnt\\anaconda3\\lib\\site-packages (0.4.0)\n",
            "Requirement already satisfied: scipy in c:\\users\\tntnt\\anaconda3\\lib\\site-packages (from vecstack) (1.7.3)\n",
            "Requirement already satisfied: numpy in c:\\users\\tntnt\\anaconda3\\lib\\site-packages (from vecstack) (1.21.5)\n",
            "Requirement already satisfied: scikit-learn>=0.18 in c:\\users\\tntnt\\anaconda3\\lib\\site-packages (from vecstack) (1.0.2)\n",
            "Requirement already satisfied: joblib>=0.11 in c:\\users\\tntnt\\anaconda3\\lib\\site-packages (from scikit-learn>=0.18->vecstack) (1.1.0)\n",
            "Requirement already satisfied: threadpoolctl>=2.0.0 in c:\\users\\tntnt\\anaconda3\\lib\\site-packages (from scikit-learn>=0.18->vecstack) (2.2.0)\n",
            "Collecting mlxtend\n",
            "  Downloading mlxtend-0.21.0-py2.py3-none-any.whl (1.3 MB)\n",
            "Requirement already satisfied: joblib>=0.13.2 in c:\\users\\tntnt\\anaconda3\\lib\\site-packages (from mlxtend) (1.1.0)\n",
            "Requirement already satisfied: scipy>=1.2.1 in c:\\users\\tntnt\\anaconda3\\lib\\site-packages (from mlxtend) (1.7.3)\n",
            "Requirement already satisfied: pandas>=0.24.2 in c:\\users\\tntnt\\anaconda3\\lib\\site-packages (from mlxtend) (1.4.2)\n",
            "Requirement already satisfied: numpy>=1.16.2 in c:\\users\\tntnt\\anaconda3\\lib\\site-packages (from mlxtend) (1.21.5)\n",
            "Requirement already satisfied: matplotlib>=3.0.0 in c:\\users\\tntnt\\anaconda3\\lib\\site-packages (from mlxtend) (3.5.1)\n",
            "Requirement already satisfied: setuptools in c:\\users\\tntnt\\anaconda3\\lib\\site-packages (from mlxtend) (61.2.0)\n",
            "Requirement already satisfied: scikit-learn>=1.0.2 in c:\\users\\tntnt\\anaconda3\\lib\\site-packages (from mlxtend) (1.0.2)\n",
            "Requirement already satisfied: python-dateutil>=2.7 in c:\\users\\tntnt\\anaconda3\\lib\\site-packages (from matplotlib>=3.0.0->mlxtend) (2.8.2)\n",
            "Requirement already satisfied: pyparsing>=2.2.1 in c:\\users\\tntnt\\anaconda3\\lib\\site-packages (from matplotlib>=3.0.0->mlxtend) (3.0.4)\n",
            "Requirement already satisfied: cycler>=0.10 in c:\\users\\tntnt\\anaconda3\\lib\\site-packages (from matplotlib>=3.0.0->mlxtend) (0.11.0)\n",
            "Requirement already satisfied: pillow>=6.2.0 in c:\\users\\tntnt\\anaconda3\\lib\\site-packages (from matplotlib>=3.0.0->mlxtend) (9.0.1)\n",
            "Requirement already satisfied: fonttools>=4.22.0 in c:\\users\\tntnt\\anaconda3\\lib\\site-packages (from matplotlib>=3.0.0->mlxtend) (4.25.0)\n",
            "Requirement already satisfied: packaging>=20.0 in c:\\users\\tntnt\\anaconda3\\lib\\site-packages (from matplotlib>=3.0.0->mlxtend) (21.3)\n",
            "Requirement already satisfied: kiwisolver>=1.0.1 in c:\\users\\tntnt\\anaconda3\\lib\\site-packages (from matplotlib>=3.0.0->mlxtend) (1.3.2)\n",
            "Requirement already satisfied: pytz>=2020.1 in c:\\users\\tntnt\\anaconda3\\lib\\site-packages (from pandas>=0.24.2->mlxtend) (2021.3)\n",
            "Requirement already satisfied: six>=1.5 in c:\\users\\tntnt\\anaconda3\\lib\\site-packages (from python-dateutil>=2.7->matplotlib>=3.0.0->mlxtend) (1.16.0)\n",
            "Requirement already satisfied: threadpoolctl>=2.0.0 in c:\\users\\tntnt\\anaconda3\\lib\\site-packages (from scikit-learn>=1.0.2->mlxtend) (2.2.0)\n",
            "Installing collected packages: mlxtend\n",
            "Successfully installed mlxtend-0.21.0\n"
          ]
        }
      ],
      "source": [
        "!pip install vecstack\n",
        "!pip install mlxtend"
      ]
    },
    {
      "cell_type": "code",
      "execution_count": null,
      "id": "2167b5ff",
      "metadata": {
        "id": "2167b5ff",
        "outputId": "599eac5b-fbb5-4f4e-b352-b46ebf0eff88"
      },
      "outputs": [
        {
          "name": "stdout",
          "output_type": "stream",
          "text": [
            "Requirement already satisfied: sklearn-deap in c:\\users\\tntnt\\anaconda3\\lib\\site-packages (0.3.0)\n",
            "Requirement already satisfied: scikit-learn>=0.24.0 in c:\\users\\tntnt\\anaconda3\\lib\\site-packages (from sklearn-deap) (1.0.2)\n",
            "Requirement already satisfied: numpy>=1.9.3 in c:\\users\\tntnt\\anaconda3\\lib\\site-packages (from sklearn-deap) (1.21.5)\n",
            "Requirement already satisfied: deap>=1.0.2 in c:\\users\\tntnt\\anaconda3\\lib\\site-packages (from sklearn-deap) (1.3.3)\n",
            "Requirement already satisfied: scipy>=0.16.0 in c:\\users\\tntnt\\anaconda3\\lib\\site-packages (from sklearn-deap) (1.7.3)\n",
            "Requirement already satisfied: joblib>=0.11 in c:\\users\\tntnt\\anaconda3\\lib\\site-packages (from scikit-learn>=0.24.0->sklearn-deap) (1.1.0)\n",
            "Requirement already satisfied: threadpoolctl>=2.0.0 in c:\\users\\tntnt\\anaconda3\\lib\\site-packages (from scikit-learn>=0.24.0->sklearn-deap) (2.2.0)\n",
            "Note: you may need to restart the kernel to use updated packages.\n"
          ]
        }
      ],
      "source": [
        "pip install sklearn-deap"
      ]
    },
    {
      "cell_type": "code",
      "execution_count": null,
      "id": "1b9d3e4f",
      "metadata": {
        "id": "1b9d3e4f"
      },
      "outputs": [],
      "source": [
        "from vecstack import stacking\n",
        "import pandas as pd\n",
        "import numpy as np\n",
        "from sklearn.metrics import accuracy_score #works\n",
        "from sklearn.model_selection import train_test_split\n",
        "from sklearn.ensemble import RandomForestClassifier\n",
        "from sklearn.tree import DecisionTreeClassifier\n",
        "from sklearn.model_selection import GridSearchCV\n",
        "from sklearn.model_selection import RandomizedSearchCV\n",
        "from sklearn.model_selection import cross_val_score\n",
        "from sklearn.metrics import classification_report, confusion_matrix\n",
        "from sklearn.ensemble import GradientBoostingClassifier\n",
        "from sklearn.neural_network import MLPClassifier\n",
        "from imblearn.over_sampling import SMOTE \n",
        "from sklearn.svm import SVC\n",
        "from collections import Counter #for Smote,\n",
        "from imblearn.under_sampling import RandomUnderSampler\n",
        "from sklearn.model_selection import StratifiedKFold\n",
        "from evolutionary_search import EvolutionaryAlgorithmSearchCV\n",
        "\n",
        "\n",
        "# Importing necessary libraries for feature selection\n",
        "from sklearn.feature_selection import SelectFromModel\n",
        "from sklearn.feature_selection import SelectKBest\n",
        "from sklearn.feature_selection import chi2, f_classif\n",
        "from genetic_selection import GeneticSelectionCV\n",
        "#import SequentialFeatureSelector as SFS from mlxtend.feature_selection\n",
        "\n",
        "import warnings\n",
        "warnings.filterwarnings(\"ignore\")"
      ]
    },
    {
      "cell_type": "code",
      "execution_count": null,
      "id": "8a683dc4",
      "metadata": {
        "id": "8a683dc4"
      },
      "outputs": [],
      "source": [
        "train_data= pd.read_csv(r\"C:\\Users\\tntnt\\Downloads\\Santander Customer Satisfaction - TRAIN (1).csv\")\n",
        "test_data= pd.read_csv(r\"C:\\Users\\tntnt\\Downloads\\Santander Customer Satisfaction - TEST-Without TARGET (1).csv\")"
      ]
    },
    {
      "cell_type": "code",
      "execution_count": null,
      "id": "727a11c1",
      "metadata": {
        "id": "727a11c1",
        "outputId": "b227d786-573b-47fe-a7d7-7bfa18417e8e"
      },
      "outputs": [
        {
          "data": {
            "text/plain": [
              "Counter({1: 3008, 0: 3008})"
            ]
          },
          "execution_count": 8,
          "metadata": {},
          "output_type": "execute_result"
        }
      ],
      "source": [
        "train_0=train_data[train_data['TARGET']==0]\n",
        "len(train_0)\n",
        "\n",
        "train_1=train_data[train_data['TARGET']==1]\n",
        "len(train_1)\n",
        "\n",
        "#to balance the data, undersampling with the length of train_1 \n",
        "\n",
        "train_undersample=pd.concat([train_1,train_0.sample(len(train_1))])\n",
        "Counter(train_undersample['TARGET'])"
      ]
    },
    {
      "cell_type": "code",
      "execution_count": null,
      "id": "faa10486",
      "metadata": {
        "id": "faa10486",
        "outputId": "a1a21f00-22d4-43ee-8d85-f2c532923df0"
      },
      "outputs": [
        {
          "name": "stdout",
          "output_type": "stream",
          "text": [
            "(6016, 370)\n",
            "(6016, 1)\n"
          ]
        }
      ],
      "source": [
        "X_train = train_undersample.drop(['TARGET'],axis=1)\n",
        "Y_train = train_undersample[['TARGET']]\n",
        "print(X_train.shape)\n",
        "print(Y_train.shape)"
      ]
    },
    {
      "cell_type": "code",
      "execution_count": null,
      "id": "fd8fa266",
      "metadata": {
        "id": "fd8fa266"
      },
      "outputs": [],
      "source": [
        "x = X_train.iloc[:,:-1].values\n",
        "y = Y_train.iloc[:].values\n",
        "\n",
        "clf = DecisionTreeClassifier()\n",
        "model1 = GeneticSelectionCV(\n",
        "    clf, cv=5, verbose=0,\n",
        "    scoring=\"accuracy\", max_features=25,\n",
        "    n_population=100, crossover_proba=0.5,\n",
        "    mutation_proba=0.2, n_generations=100,\n",
        "    crossover_independent_proba=0.5,\n",
        "    mutation_independent_proba=0.04,\n",
        "    tournament_size=3, n_gen_no_change=10,\n",
        "    caching=True, n_jobs=-1)\n",
        "model1 = model1.fit(x, y)"
      ]
    },
    {
      "cell_type": "code",
      "execution_count": null,
      "id": "d1f193fb",
      "metadata": {
        "id": "d1f193fb",
        "outputId": "a3e74bcd-7e5a-4bfc-aed3-1c7b63b32f62"
      },
      "outputs": [
        {
          "name": "stdout",
          "output_type": "stream",
          "text": [
            "[False  True  True False False False False False  True False False False\n",
            " False False False False  True False False False False False False False\n",
            " False False False False False False False False False False False False\n",
            " False False False False False False False False False False False False\n",
            " False False False False False False False False False False False False\n",
            " False False False False False False False False False False False False\n",
            " False False False  True False False False False False False False False\n",
            " False False False False  True False False False False False  True False\n",
            " False False False False  True False False False False False False False\n",
            " False False False False False False False False False False False False\n",
            " False False False False False False False False False False False False\n",
            " False False False False False False False False False False False False\n",
            " False False False False False False False False False False False False\n",
            " False False False False False False  True False False False False False\n",
            " False False  True False False False False False False False False False\n",
            " False False False False False False False False False False False  True\n",
            " False False False False False False False  True False False False  True\n",
            " False False False False False False False False False False False False\n",
            " False False False False False False False False False False False False\n",
            " False False False False False False False  True False False False False\n",
            " False False  True False False False False False False False False False\n",
            " False False False False False False False False False False False False\n",
            " False False False False False False False False False False False False\n",
            " False False False False False False False False False False False False\n",
            " False False False False False False False False False False False False\n",
            " False False False False False  True False False False  True False False\n",
            " False False False False False False False False False False False False\n",
            " False False False False  True False False False False False False False\n",
            " False False False False False False  True False False False False False\n",
            " False  True False False False False False False False False False False\n",
            " False False  True False False False False False False]\n",
            "\n",
            " cols =  [  1   2   8  16  75  88  94 100 162 170 191 199 203 235 242 305 309 328\n",
            " 342 349 362] \n",
            "\n",
            "Index(['var3', 'var15', 'imp_op_var40_efect_ult1', 'imp_op_var39_efect_ult1',\n",
            "       'ind_var37_0', 'num_var1', 'num_var8_0', 'num_var13_corto',\n",
            "       'num_var46_0', 'saldo_var13_largo', 'saldo_var42',\n",
            "       'delta_imp_aport_var33_1y3', 'delta_imp_reemb_var33_1y3',\n",
            "       'imp_reemb_var13_hace3', 'imp_trans_var37_ult1', 'num_reemb_var13_ult1',\n",
            "       'num_reemb_var33_ult1', 'saldo_var2_ult1',\n",
            "       'saldo_medio_var13_corto_hace3', 'saldo_medio_var13_medio_hace2',\n",
            "       'saldo_medio_var33_hace3'],\n",
            "      dtype='object')\n"
          ]
        }
      ],
      "source": [
        "#Doing feature selection using genetic algorithm\n",
        "#To get column names\n",
        "print(model1.get_support())\n",
        "\n",
        "#To get column names\n",
        "cols_model1 = model1.get_support(indices=True) #to get column indices\n",
        "print(\"\\n cols = \", cols_model1, \"\\n\")\n",
        "features_model1=X_train.columns[cols_model1] #to get col \n",
        "print(features_model1)"
      ]
    },
    {
      "cell_type": "code",
      "execution_count": null,
      "id": "aa0fcba8",
      "metadata": {
        "id": "aa0fcba8"
      },
      "outputs": [],
      "source": [
        "x = X_train.iloc[:,:-1].values\n",
        "y = Y_train.iloc[:].values\n",
        "\n",
        "clf = DecisionTreeClassifier()\n",
        "model2 = GeneticSelectionCV(\n",
        "    clf, cv=5, verbose=0,\n",
        "    scoring=\"accuracy\", max_features=50,\n",
        "    n_population=100, crossover_proba=0.5,\n",
        "    mutation_proba=0.2, n_generations=100,\n",
        "    crossover_independent_proba=0.5,\n",
        "    mutation_independent_proba=0.04,\n",
        "    tournament_size=3, n_gen_no_change=10,\n",
        "    caching=True, n_jobs=-1)\n",
        "model2 = model2.fit(x, y)"
      ]
    },
    {
      "cell_type": "code",
      "execution_count": null,
      "id": "7e5716a3",
      "metadata": {
        "id": "7e5716a3",
        "outputId": "b37a161d-9c26-430a-8fd8-73ba7fa179d2"
      },
      "outputs": [
        {
          "name": "stdout",
          "output_type": "stream",
          "text": [
            "[False False  True  True False False False False False False False False\n",
            " False False False False  True False False False False False False False\n",
            " False False False False False False  True False False False False False\n",
            "  True False False False False False False False False False  True  True\n",
            " False False False  True False  True False False False False False False\n",
            " False False False False False False False False False False False False\n",
            " False False False False False False False False False False False False\n",
            " False False False False False False False False  True False False  True\n",
            " False False False  True False False False False False False False False\n",
            " False False False False False False False False False False  True False\n",
            " False False False False False False False False False False False False\n",
            " False False False  True False False False False False False  True False\n",
            " False False False False False False False False False False False False\n",
            " False False  True False False False False False False False False False\n",
            " False False False  True False False False False  True False False False\n",
            " False False False  True False  True False False False False False  True\n",
            " False False False  True False False False False False False False False\n",
            " False False False False False False False  True False False False False\n",
            " False False False False False False False False False False False False\n",
            " False False  True False  True False  True False False False False False\n",
            " False False False False False False  True False  True False False  True\n",
            "  True False False False False False False False False False False False\n",
            " False False False False False False  True False False False False False\n",
            " False False False  True False False False False  True False False False\n",
            " False False False False False False False False False False False False\n",
            " False False False False  True  True False False False False False False\n",
            " False False False False False False False False False False False False\n",
            " False False False False False False False  True False False False False\n",
            " False False False False False False False  True  True False False False\n",
            " False False False False False  True False False False False  True False\n",
            "  True False False False False False False False False]\n",
            "\n",
            " cols =  [  2   3  16  30  36  46  47  51  53  92  95  99 118 135 142 158 171 176\n",
            " 183 185 191 195 211 230 232 234 246 248 251 252 270 279 284 304 305 331\n",
            " 343 344 353 358 360] \n",
            "\n"
          ]
        }
      ],
      "source": [
        "#Doing feature selection using the genetic algo\n",
        "#To get column names\n",
        "print(model2.get_support())\n",
        "\n",
        "#To get column names\n",
        "cols_model2 = model2.get_support(indices=True) #get column indices\n",
        "print(\"\\n cols = \", cols_model2, \"\\n\")\n",
        "features_model2=X_train.columns[cols_model2] #Get col names"
      ]
    },
    {
      "cell_type": "code",
      "execution_count": null,
      "id": "7a794f28",
      "metadata": {
        "id": "7a794f28"
      },
      "outputs": [],
      "source": [
        "x = X_train.iloc[:,:-1].values\n",
        "y = Y_train.iloc[:].values\n",
        "\n",
        "rf = RandomForestClassifier()\n",
        "model3 = GeneticSelectionCV(\n",
        "    clf, cv=5, verbose=0,\n",
        "    scoring=\"accuracy\", max_features=25,\n",
        "    n_population=100, crossover_proba=0.5,\n",
        "    mutation_proba=0.2, n_generations=100,\n",
        "    crossover_independent_proba=0.5,\n",
        "    mutation_independent_proba=0.04,\n",
        "    tournament_size=3, n_gen_no_change=10,\n",
        "    caching=True, n_jobs=-1)\n",
        "model3 = model3.fit(x, y)"
      ]
    },
    {
      "cell_type": "code",
      "execution_count": null,
      "id": "9c71552b",
      "metadata": {
        "id": "9c71552b",
        "outputId": "8153f4b5-3720-4725-ee9f-27a9d96d00c4"
      },
      "outputs": [
        {
          "name": "stdout",
          "output_type": "stream",
          "text": [
            "[False  True  True False False False False False False False False False\n",
            " False  True False False False False False False False False False False\n",
            " False  True False False False False False False  True False False False\n",
            " False False False False False False False False False False False False\n",
            " False  True False False False False False False False False False False\n",
            " False False False False False False False  True False False False False\n",
            " False False False False False False False  True False False False False\n",
            " False False False False  True False False False False  True False False\n",
            " False False False False False False False False False False False False\n",
            " False False False False False False False False False  True False False\n",
            "  True False False False False False False False False False False False\n",
            " False False False False False False False False False False False False\n",
            " False False False False False False False False False False  True False\n",
            " False False False False False False False False False False False False\n",
            " False False False False False False False False False False False False\n",
            " False False False False False False False False False  True False  True\n",
            " False False False False False False False False False False False False\n",
            " False False False False False False False False False False False False\n",
            " False False False False False False False False False False False False\n",
            " False False False False False False False False False False False False\n",
            " False False False  True False False False False False False False False\n",
            " False False  True False False False False False False False False False\n",
            " False False False False False False False False False False False False\n",
            " False False False False False False False False False False False False\n",
            " False False False False False False False False False False False False\n",
            " False False False False False False False  True False False False False\n",
            " False False False False False  True False False False False False False\n",
            " False False False False False False False False False False False False\n",
            " False False False False False False False False False False False False\n",
            " False False False False False False False False False False False  True\n",
            " False False False  True False False False False False]\n",
            "\n",
            " cols =  [  1   2  13  25  32  49  67  79  88  93 117 120 154 189 191 243 254 307\n",
            " 317 359 363] \n",
            "\n"
          ]
        }
      ],
      "source": [
        "#Doing feature selection using the genetic algo\n",
        "#To get column names\n",
        "print(model3.get_support())\n",
        "\n",
        "#To get column names\n",
        "cols_model3 = model3.get_support(indices=True) #to get column indices\n",
        "print(\"\\n cols = \", cols_model3, \"\\n\")\n",
        "#to get column names\n",
        "features_model3=X_train.columns[cols_model3] "
      ]
    },
    {
      "cell_type": "code",
      "execution_count": null,
      "id": "8415d249",
      "metadata": {
        "id": "8415d249"
      },
      "outputs": [],
      "source": [
        "x = X_train.iloc[:,:-1].values\n",
        "y = Y_train.iloc[:].values\n",
        "\n",
        "rf = RandomForestClassifier()\n",
        "model4 = GeneticSelectionCV(\n",
        "    clf, cv=5, verbose=0,\n",
        "    scoring=\"accuracy\", max_features=50,\n",
        "    n_population=100, crossover_proba=0.5,\n",
        "    mutation_proba=0.2, n_generations=100,\n",
        "    crossover_independent_proba=0.5,\n",
        "    mutation_independent_proba=0.04,\n",
        "    tournament_size=3, n_gen_no_change=10,\n",
        "    caching=True, n_jobs=-1)\n",
        "model4 = model4.fit(x, y)"
      ]
    },
    {
      "cell_type": "code",
      "execution_count": null,
      "id": "3cc4b616",
      "metadata": {
        "id": "3cc4b616",
        "outputId": "48db5f34-a4fd-45a3-936a-820129497e7f"
      },
      "outputs": [
        {
          "name": "stdout",
          "output_type": "stream",
          "text": [
            "[False False  True False False False False False False False False False\n",
            " False  True False False False False False False False False False False\n",
            " False False False False False False False  True False False False False\n",
            "  True False  True False False False False False False False False  True\n",
            " False False False False False False False False False False  True False\n",
            " False False False  True  True  True False False False False False False\n",
            " False  True False False False False  True False False False False False\n",
            " False False False False False False False False False False False False\n",
            " False False False False False False False False False False False False\n",
            " False False False False  True False False False False False False False\n",
            "  True False False False False False False False False False False False\n",
            "  True False False False  True False False False False False False False\n",
            " False False False False False False  True False False False False False\n",
            " False False False False False  True  True False False  True False False\n",
            "  True False False False False False False False False False False False\n",
            " False False  True  True False False False False False False False False\n",
            " False False False False  True False False False False False False False\n",
            " False False False False False False False False False False False  True\n",
            " False False False False False False False False False False False False\n",
            " False False False False False False False False  True False False False\n",
            " False False False False False False False False False False False False\n",
            " False False False False False False False False False False False False\n",
            " False False False False  True False False False False False False False\n",
            " False False False False False False False False False False False False\n",
            " False False False  True False False False False False False False False\n",
            " False False False False False  True  True False False False False False\n",
            " False False False  True False False False False False False False False\n",
            " False False False False False False False False False False False False\n",
            " False False False False False False False False False False False False\n",
            " False False False False  True False False False  True False False False\n",
            " False False False False False False False False False]\n",
            "\n",
            " cols =  [  2  13  31  36  38  47  58  63  64  65  73  78 112 120 132 136 150 161\n",
            " 162 165 168 182 183 196 215 236 268 291 305 306 315 352 356] \n",
            "\n"
          ]
        }
      ],
      "source": [
        "#Doing feature selection using the genetic algo\n",
        "#To get column names\n",
        "print(model4.get_support())\n",
        "\n",
        "#To get column names\n",
        "cols_model4 = model4.get_support(indices=True) #To get column indices\n",
        "print(\"\\n cols = \", cols_model4, \"\\n\")\n",
        "#To get column names\n",
        "features_model4=X_train.columns[cols_model4] "
      ]
    },
    {
      "cell_type": "code",
      "execution_count": null,
      "id": "f3f2f453",
      "metadata": {
        "id": "f3f2f453",
        "outputId": "1d5aff80-9f21-4282-cb67-440643253443"
      },
      "outputs": [
        {
          "name": "stdout",
          "output_type": "stream",
          "text": [
            "Types [1, 1] and maxint [2, 2] detected\n",
            "--- Evolve in 9 possible combinations ---\n",
            "gen\tnevals\tavg    \tmin     \tmax     \tstd       \n",
            "0  \t50    \t0.38619\t0.380652\t0.390126\t0.00335153\n",
            "1  \t37    \t0.38871\t0.382314\t0.390126\t0.00198503\n",
            "2  \t25    \t0.389747\t0.382314\t0.390126\t0.0012457 \n",
            "3  \t32    \t0.390126\t0.390126\t0.390126\t1.11022e-16\n",
            "4  \t29    \t0.390126\t0.390126\t0.390126\t1.11022e-16\n",
            "5  \t26    \t0.390096\t0.38863 \t0.390126\t0.000209441\n",
            "Best individual is: {'min_samples_split': 50, 'max_depth': 20}\n",
            "with fitness: 0.39012632978723405\n"
          ]
        }
      ],
      "source": [
        "#Hyperparameter tuning with Genetic Algorithm\n",
        "paramgrid = {'min_samples_split' : (25,50,75),'max_depth': (10,20,30)}\n",
        "\n",
        "\n",
        "cv_dt_25 = EvolutionaryAlgorithmSearchCV(estimator=clf,\n",
        "                                   params=paramgrid,\n",
        "                                   scoring=\"accuracy\",\n",
        "                                   cv=StratifiedKFold(n_splits=4),\n",
        "                                   verbose=1,\n",
        "                                   population_size=50,\n",
        "                                   gene_mutation_prob=0.10,\n",
        "                                   gene_crossover_prob=0.5,\n",
        "                                   tournament_size=3,\n",
        "                                   generations_number=5)\n",
        "cv_dt_25.fit(x, y)"
      ]
    },
    {
      "cell_type": "code",
      "execution_count": null,
      "id": "ac1a1126",
      "metadata": {
        "id": "ac1a1126",
        "outputId": "8f28ac30-040b-4d13-eac2-5e748138ac9e"
      },
      "outputs": [
        {
          "name": "stdout",
          "output_type": "stream",
          "text": [
            "Types [1, 1] and maxint [2, 2] detected\n",
            "--- Evolve in 9 possible combinations ---\n",
            "gen\tnevals\tavg     \tmin     \tmax    \tstd       \n",
            "0  \t50    \t0.390898\t0.386968\t0.39611\t0.00374571\n",
            "1  \t28    \t0.393926\t0.388132\t0.39611\t0.00321702\n",
            "2  \t26    \t0.395698\t0.387633\t0.39611\t0.00155194\n",
            "3  \t28    \t0.396094\t0.395279\t0.39611\t0.000116356\n",
            "4  \t30    \t0.395954\t0.389129\t0.39611\t0.000981934\n",
            "5  \t23    \t0.395964\t0.388797\t0.39611\t0.00102394 \n",
            "Best individual is: {'min_samples_split': 150, 'max_depth': 100}\n",
            "with fitness: 0.3961103723404255\n"
          ]
        }
      ],
      "source": [
        "#Hyperparameter tuning with Genetic Algorithm\n",
        "paramgrid = {'min_samples_split' : (75,100,150),'max_depth': (50,100,150)}\n",
        "\n",
        "\n",
        "cv_dt_50 = EvolutionaryAlgorithmSearchCV(estimator=clf,\n",
        "                                   params=paramgrid,\n",
        "                                   scoring=\"accuracy\",\n",
        "                                   cv=StratifiedKFold(n_splits=4),\n",
        "                                   verbose=1,\n",
        "                                   population_size=50,\n",
        "                                   gene_mutation_prob=0.10,\n",
        "                                   gene_crossover_prob=0.5,\n",
        "                                   tournament_size=3,\n",
        "                                   generations_number=5)\n",
        "cv_dt_50.fit(x, y)"
      ]
    },
    {
      "cell_type": "code",
      "execution_count": null,
      "id": "3a2f3496",
      "metadata": {
        "id": "3a2f3496",
        "outputId": "72850a04-0f8b-4eb6-fd37-8b92ee6b1a59"
      },
      "outputs": [
        {
          "name": "stdout",
          "output_type": "stream",
          "text": [
            "Types [1, 1, 1] and maxint [2, 2, 2] detected\n",
            "--- Evolve in 27 possible combinations ---\n",
            "gen\tnevals\tavg     \tmin     \tmax     \tstd      \n",
            "0  \t50    \t0.663773\t0.613364\t0.685505\t0.0215307\n",
            "1  \t30    \t0.678055\t0.636303\t0.685505\t0.00797316\n",
            "2  \t39    \t0.680705\t0.636303\t0.685505\t0.00984012\n",
            "3  \t34    \t0.679987\t0.624335\t0.685505\t0.014279  \n",
            "4  \t23    \t0.682699\t0.636303\t0.685505\t0.00994809\n",
            "5  \t28    \t0.684089\t0.624335\t0.685505\t0.00864229\n",
            "Best individual is: {'min_samples_split': 75, 'max_depth': 50, 'min_samples_leaf': 50}\n",
            "with fitness: 0.6855053191489362\n"
          ]
        }
      ],
      "source": [
        "#Hyperparameter tuning with Genetic Algorithm\n",
        "paramgrid = {'min_samples_split' : (75,100,150),'max_depth': (50,100,150), 'min_samples_leaf': (20,30,50)}\n",
        "\n",
        "\n",
        "cv_rf_25 = EvolutionaryAlgorithmSearchCV(estimator=rf,\n",
        "                                   params=paramgrid,\n",
        "                                   scoring=\"accuracy\",\n",
        "                                   cv=StratifiedKFold(n_splits=4),\n",
        "                                   verbose=1,\n",
        "                                   population_size=50,\n",
        "                                   gene_mutation_prob=0.10,\n",
        "                                   gene_crossover_prob=0.5,\n",
        "                                   tournament_size=3,\n",
        "                                   generations_number=5)\n",
        "cv_rf_25.fit(x, y)"
      ]
    },
    {
      "cell_type": "code",
      "execution_count": null,
      "id": "5403a635",
      "metadata": {
        "id": "5403a635",
        "outputId": "68f6f1fd-096f-41c3-f78f-9f4f1160814e"
      },
      "outputs": [
        {
          "name": "stdout",
          "output_type": "stream",
          "text": [
            "Types [1, 1, 1] and maxint [2, 2, 2] detected\n",
            "--- Evolve in 27 possible combinations ---\n",
            "gen\tnevals\tavg     \tmin     \tmax     \tstd      \n",
            "0  \t50    \t0.651253\t0.562334\t0.685672\t0.0448281\n",
            "1  \t33    \t0.675708\t0.562999\t0.685672\t0.0233858\n",
            "2  \t31    \t0.683554\t0.674701\t0.685672\t0.00284233\n",
            "3  \t35    \t0.685196\t0.680186\t0.685672\t0.00122285\n",
            "4  \t27    \t0.685562\t0.680186\t0.685672\t0.000767952\n",
            "5  \t27    \t0.683068\t0.576463\t0.685672\t0.0153672  \n",
            "Best individual is: {'min_samples_split': 100, 'max_depth': 200, 'min_samples_leaf': 50}\n",
            "with fitness: 0.6856715425531915\n"
          ]
        }
      ],
      "source": [
        "#Hyperparameter tuning with Genetic Algorithm\n",
        "paramgrid = {'min_samples_split' : (100,150,175),'max_depth': (75,150,200), 'min_samples_leaf': (10,50,90)}\n",
        "\n",
        "\n",
        "cv_rf_50 = EvolutionaryAlgorithmSearchCV(estimator=rf,\n",
        "                                   params=paramgrid,\n",
        "                                   scoring=\"accuracy\",\n",
        "                                   cv=StratifiedKFold(n_splits=4),\n",
        "                                   verbose=1,\n",
        "                                   population_size=50,\n",
        "                                   gene_mutation_prob=0.10,\n",
        "                                   gene_crossover_prob=0.5,\n",
        "                                   tournament_size=3,\n",
        "                                   generations_number=5)\n",
        "cv_rf_50.fit(x, y)"
      ]
    },
    {
      "cell_type": "code",
      "execution_count": null,
      "id": "8a77e565",
      "metadata": {
        "id": "8a77e565"
      },
      "outputs": [],
      "source": [
        "#Building final models\n",
        "X = train_data.drop(['TARGET'],axis=1)\n",
        "y = train_data[['TARGET']]\n",
        "X_val = test_data"
      ]
    },
    {
      "cell_type": "code",
      "execution_count": null,
      "id": "ea056706",
      "metadata": {
        "id": "ea056706"
      },
      "outputs": [],
      "source": [
        "#Decision Tree\n",
        "\n",
        "f_dt_25=DecisionTreeClassifier(**cv_dt_25.best_params_)\n",
        "f_dt_25.fit(X[features_model1],y)\n",
        "f_dt_25_predict = f_dt_25.predict(X_val[features_model1])\n",
        "\n",
        "pred_df = []\n",
        "for i in zip(test_data['ID'], f_dt_25_predict):    \n",
        "    pred_df.append(i)\n",
        "    \n",
        "pred_df = pd.DataFrame(pred_df, columns = ['ID', 'TARGET'])\n",
        "pred_df.to_csv('C:/Users/tntnt/Downloads/f-dt-25.csv',index=None)"
      ]
    },
    {
      "cell_type": "code",
      "execution_count": null,
      "id": "c50def77",
      "metadata": {
        "id": "c50def77"
      },
      "outputs": [],
      "source": [
        "f_dt_50=DecisionTreeClassifier(**cv_dt_50.best_params_)\n",
        "f_dt_50.fit(X[features_model2],y)\n",
        "f_dt_50_predict = f_dt_50.predict(X_val[features_model2])\n",
        "\n",
        "pred_df = []\n",
        "for i in zip(test_data['ID'], f_dt_50_predict):    \n",
        "    pred_df.append(i)\n",
        "    \n",
        "pred_df = pd.DataFrame(pred_df, columns = ['ID', 'TARGET'])\n",
        "pred_df.to_csv('C:/Users/tntnt/Downloads/f-dt-50.csv',index=None)"
      ]
    },
    {
      "cell_type": "code",
      "execution_count": null,
      "id": "13cf0148",
      "metadata": {
        "id": "13cf0148"
      },
      "outputs": [],
      "source": [
        "f_rf_25=DecisionTreeClassifier(**cv_rf_25.best_params_)\n",
        "f_rf_25.fit(X[features_model3],y)\n",
        "f_rf_25_predict = f_rf_25.predict(X_val[features_model3])\n",
        "\n",
        "pred_df = []\n",
        "for i in zip(test_data['ID'], f_rf_25_predict):    \n",
        "    pred_df.append(i)\n",
        "    \n",
        "pred_df = pd.DataFrame(pred_df, columns = ['ID', 'TARGET'])\n",
        "pred_df.to_csv('C:/Users/tntnt/Downloads/f-rf-25.csv',index=None)"
      ]
    },
    {
      "cell_type": "code",
      "execution_count": null,
      "id": "34f0689f",
      "metadata": {
        "id": "34f0689f"
      },
      "outputs": [],
      "source": [
        "f_rf_50=DecisionTreeClassifier(**cv_rf_50.best_params_)\n",
        "f_rf_50.fit(X[features_model4],y)\n",
        "f_rf_50_predict = f_rf_50.predict(X_val[features_model4])\n",
        "\n",
        "pred_df = []\n",
        "for i in zip(test_data['ID'], f_rf_50_predict):    \n",
        "    pred_df.append(i)\n",
        "    \n",
        "pred_df = pd.DataFrame(pred_df, columns = ['ID', 'TARGET'])\n",
        "pred_df.to_csv('C:/Users/tntnt/Downloads/f-rf-50.csv',index=None)"
      ]
    },
    {
      "cell_type": "code",
      "execution_count": null,
      "id": "5f9b54f9",
      "metadata": {
        "id": "5f9b54f9"
      },
      "outputs": [],
      "source": []
    }
  ],
  "metadata": {
    "kernelspec": {
      "display_name": "Python 3 (ipykernel)",
      "language": "python",
      "name": "python3"
    },
    "language_info": {
      "codemirror_mode": {
        "name": "ipython",
        "version": 3
      },
      "file_extension": ".py",
      "mimetype": "text/x-python",
      "name": "python",
      "nbconvert_exporter": "python",
      "pygments_lexer": "ipython3",
      "version": "3.9.12"
    },
    "colab": {
      "provenance": []
    }
  },
  "nbformat": 4,
  "nbformat_minor": 5
}